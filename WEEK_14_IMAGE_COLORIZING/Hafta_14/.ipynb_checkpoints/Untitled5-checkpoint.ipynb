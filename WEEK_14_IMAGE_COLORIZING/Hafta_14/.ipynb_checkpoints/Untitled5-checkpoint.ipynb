{
 "cells": [
  {
   "cell_type": "code",
   "execution_count": null,
   "id": "291ff387-63ed-456d-9725-449cf1d33921",
   "metadata": {},
   "outputs": [],
   "source": [
    "import cv2\n",
    "import numpy as np\n",
    "from deoldify import device\n",
    "from deoldify.device_id import DeviceId\n",
    "import torch\n",
    "from deoldify.visualize import *\n",
    "import warnings\n",
    "import os\n",
    "from pathlib import Path\n",
    "warnings.filterwarnings(\"ignore\")"
   ]
  },
  {
   "cell_type": "code",
   "execution_count": null,
   "id": "16b77c95-a88a-4604-83df-0e3914ad2eaa",
   "metadata": {},
   "outputs": [],
   "source": [
    "def colorize_image(input_path, output_path, render_factor=35):\n",
    "    \"\"\"\n",
    "    Siyah-beyaz görüntüyü renklendirir\n",
    "    \n",
    "    Parameters:\n",
    "    input_path (str): Giriş görüntüsünün yolu\n",
    "    output_path (str): Çıkış görüntüsünün yolu\n",
    "    render_factor (int): Renklendirme kalitesi (10-40 arası)\n",
    "    \"\"\"\n",
    "    try:\n",
    "        \n",
    "        # Dosya yollarını düzelt\n",
    "        input_path = str(Path(input_path).absolute())\n",
    "        output_path = str(Path(output_path).absolute())\n",
    "        \n",
    "        # Dosyanın varlığını kontrol et\n",
    "        if not os.path.exists(input_path):\n",
    "            raise FileNotFoundError(f\"Giriş dosyası bulunamadı: {input_path}\")\n",
    "        \n",
    "        # GPU kullanımını ayarla\n",
    "        device.set(device=DeviceId.GPU0 if torch.cuda.is_available() else DeviceId.CPU)\n",
    "        \n",
    "        print(\"Model yükleniyor...\")\n",
    "        colorizer = get_image_colorizer(artistic=True)\n",
    "        \n",
    "        print(\"Renklendirme işlemi başlıyor...\")\n",
    "        colorizer.plot_transformed_image(path=input_path, \n",
    "                                      render_factor=render_factor, \n",
    "                                      compare=True)\n",
    "\n",
    "        \n",
    "        print(f\"Renklendirilmiş görüntü kaydedildi: {output_path}\")\n",
    "        return True\n",
    "        \n",
    "    except Exception as e:\n",
    "        print(f\"Hata oluştu: {str(e)}\")\n",
    "        return False\n",
    "\n",
    "if __name__ == \"__main__\":\n",
    "    # Test için - Düzeltilmiş dosya yolları\n",
    "    input_image = \"input_img_2.jpg\"  # Doğrudan dosya adı\n",
    "    output_image = \"colorized_output_2.png\"  # Doğrudan dosya adı\n",
    "    \n",
    "    colorize_image(input_image, output_image, render_factor=35)"
   ]
  },
  {
   "cell_type": "code",
   "execution_count": null,
   "id": "ac15fa24-da72-40a3-b005-bb7187b3e5f8",
   "metadata": {},
   "outputs": [],
   "source": []
  }
 ],
 "metadata": {
  "kernelspec": {
   "display_name": "my_tf_3",
   "language": "python",
   "name": "my_tf_3"
  },
  "language_info": {
   "codemirror_mode": {
    "name": "ipython",
    "version": 3
   },
   "file_extension": ".py",
   "mimetype": "text/x-python",
   "name": "python",
   "nbconvert_exporter": "python",
   "pygments_lexer": "ipython3",
   "version": "3.9.20"
  }
 },
 "nbformat": 4,
 "nbformat_minor": 5
}
