{
 "cells": [
  {
   "cell_type": "code",
   "execution_count": 1,
   "id": "e6f784ad-54a1-42cb-ad4b-9794950bdd47",
   "metadata": {},
   "outputs": [
    {
     "name": "stdout",
     "output_type": "stream",
     "text": [
      "Note: NumExpr detected 20 cores but \"NUMEXPR_MAX_THREADS\" not set, so enforcing safe limit of 16.\n",
      "NumExpr defaulting to 16 threads.\n"
     ]
    }
   ],
   "source": [
    "import numpy as np\n",
    "import cv2\n",
    "import os\n",
    "from pathlib import Path\n",
    "import torch\n",
    "from deoldify import device\n",
    "from deoldify.device_id import DeviceId\n",
    "from deoldify.visualize import *\n",
    "import warnings\n",
    "warnings.filterwarnings(\"ignore\")"
   ]
  },
  {
   "cell_type": "code",
   "execution_count": null,
   "id": "14d2f4c5-7aa2-4047-b967-eb50a23bc4b4",
   "metadata": {},
   "outputs": [
    {
     "name": "stdout",
     "output_type": "stream",
     "text": [
      "Model Yükleniyor...\n",
      "Renklendirme işlemi başlıyor...\n",
      "Renkli görüntünüz oluşturulmuştur!\n"
     ]
    },
    {
     "data": {
      "text/plain": [
       "True"
      ]
     },
     "execution_count": 3,
     "metadata": {},
     "output_type": "execute_result"
    }
   ],
   "source": [
    "# Renklendirme işlemini yapması için fonksiyon tanımlıyoruz.\n",
    "# Öncelikle path dizinlerini kontrol edecek, eğer herhangi bir sorun yoksa\n",
    "# kullanacağı aygıtı seçecek (GPU ile mi çalışacak yoksa CPU ile mi?)\n",
    "# Sonrasında modeli yükleyecek ve çalıştıracak\n",
    "# sonucu da result images klasörü içerisinde kullanıcının verdiği dosya adı\n",
    "# ve dosya uzantısına göre oluşturacak.\n",
    "\n",
    "# giriş görüntüsü, çıktı görüntüsü ve renklendirme kalitesini parametre olarak\n",
    "# veriyoruz (colorize_image fonksiyonuna)\n",
    "# görüntü renklendirme kalitesi 10 ila 40 arasında bir değer alır\n",
    "\n",
    "def colorize_image(input_path, output_path, render_factor=35):\n",
    "    try:\n",
    "\n",
    "        # dosya adını sistem path'i ile birleştiren kodu yazalım\n",
    "        # yani input_image.jpg'yi C:/Users/Furkan/Hafta_14/input_image.jpg\n",
    "        # haline getiren kodu yazalım\n",
    "\n",
    "        input_path = str(Path(input_path).absolute())\n",
    "        output_path = str(Path(output_path).absolute())\n",
    "\n",
    "        # aşağıdaki kodla da bu modelin GPU kaynağı ile mi yoksa CPU kaynağı\n",
    "        # ile mi çalışacağını belirliyoruz, öncelik GPU'ya ait olacak şekilde\n",
    "\n",
    "        device.set(device=DeviceId.GPU0 if torch.cuda.is_available() else DeviceId.CPU)\n",
    "\n",
    "        # Artık modelimizi başlatabiliriz\n",
    "        print(\"Model Yükleniyor...\")\n",
    "\n",
    "        colorizer = get_image_colorizer(artistic=True)\n",
    "\n",
    "        print(\"Renklendirme işlemi başlıyor...\")\n",
    "        colorizer.plot_transformed_image(path=input_path, render_factor=35,\n",
    "                                        compare=True)\n",
    "\n",
    "        print(\"Renkli görüntünüz oluşturulmuştur!\")\n",
    "        return True\n",
    "\n",
    "    except Exception as e:\n",
    "        print(f\"Hata oluştu. Hata = {e}\")\n",
    "        return False\n",
    "\n",
    "my_input_img = \"input_image.jpg\"\n",
    "my_output_img = \"my_colorized_img.png\"\n",
    "\n",
    "colorize_image(my_input_img, my_output_img, render_factor=35)"
   ]
  },
  {
   "cell_type": "code",
   "execution_count": null,
   "id": "3c15c6f0-612d-4bb7-833e-d01ae79dd27f",
   "metadata": {},
   "outputs": [],
   "source": []
  }
 ],
 "metadata": {
  "kernelspec": {
   "display_name": "my_tf_3",
   "language": "python",
   "name": "my_tf_3"
  },
  "language_info": {
   "codemirror_mode": {
    "name": "ipython",
    "version": 3
   },
   "file_extension": ".py",
   "mimetype": "text/x-python",
   "name": "python",
   "nbconvert_exporter": "python",
   "pygments_lexer": "ipython3",
   "version": "3.9.20"
  }
 },
 "nbformat": 4,
 "nbformat_minor": 5
}
